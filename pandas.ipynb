{
 "cells": [
  {
   "cell_type": "markdown",
   "metadata": {},
   "source": [
    "## Imports"
   ]
  },
  {
   "cell_type": "code",
   "execution_count": 53,
   "metadata": {},
   "outputs": [],
   "source": [
    "import pandas as pd\n",
    "import numpy as np\n",
    "import seaborn as sns"
   ]
  },
  {
   "cell_type": "markdown",
   "metadata": {},
   "source": [
    "## 1. Reading The Dataset"
   ]
  },
  {
   "cell_type": "code",
   "execution_count": 5,
   "metadata": {},
   "outputs": [
    {
     "data": {
      "text/html": [
       "<div>\n",
       "<style scoped>\n",
       "    .dataframe tbody tr th:only-of-type {\n",
       "        vertical-align: middle;\n",
       "    }\n",
       "\n",
       "    .dataframe tbody tr th {\n",
       "        vertical-align: top;\n",
       "    }\n",
       "\n",
       "    .dataframe thead th {\n",
       "        text-align: right;\n",
       "    }\n",
       "</style>\n",
       "<table border=\"1\" class=\"dataframe\">\n",
       "  <thead>\n",
       "    <tr style=\"text-align: right;\">\n",
       "      <th></th>\n",
       "      <th>ID</th>\n",
       "      <th>Name</th>\n",
       "      <th>FullName</th>\n",
       "      <th>Age</th>\n",
       "      <th>Height</th>\n",
       "      <th>Weight</th>\n",
       "      <th>PhotoUrl</th>\n",
       "      <th>Nationality</th>\n",
       "      <th>Overall</th>\n",
       "      <th>Potential</th>\n",
       "      <th>...</th>\n",
       "      <th>LMRating</th>\n",
       "      <th>CMRating</th>\n",
       "      <th>RMRating</th>\n",
       "      <th>LWBRating</th>\n",
       "      <th>CDMRating</th>\n",
       "      <th>RWBRating</th>\n",
       "      <th>LBRating</th>\n",
       "      <th>CBRating</th>\n",
       "      <th>RBRating</th>\n",
       "      <th>GKRating</th>\n",
       "    </tr>\n",
       "  </thead>\n",
       "  <tbody>\n",
       "    <tr>\n",
       "      <th>0</th>\n",
       "      <td>158023</td>\n",
       "      <td>L. Messi</td>\n",
       "      <td>Lionel Messi</td>\n",
       "      <td>33</td>\n",
       "      <td>170</td>\n",
       "      <td>72</td>\n",
       "      <td>https://cdn.sofifa.com/players/158/023/21_60.png</td>\n",
       "      <td>Argentina</td>\n",
       "      <td>93</td>\n",
       "      <td>93</td>\n",
       "      <td>...</td>\n",
       "      <td>93</td>\n",
       "      <td>90</td>\n",
       "      <td>93</td>\n",
       "      <td>69</td>\n",
       "      <td>68</td>\n",
       "      <td>69</td>\n",
       "      <td>65</td>\n",
       "      <td>55</td>\n",
       "      <td>65</td>\n",
       "      <td>22</td>\n",
       "    </tr>\n",
       "    <tr>\n",
       "      <th>1</th>\n",
       "      <td>20801</td>\n",
       "      <td>Cristiano Ronaldo</td>\n",
       "      <td>C. Ronaldo dos Santos Aveiro</td>\n",
       "      <td>35</td>\n",
       "      <td>187</td>\n",
       "      <td>83</td>\n",
       "      <td>https://cdn.sofifa.com/players/020/801/21_60.png</td>\n",
       "      <td>Portugal</td>\n",
       "      <td>92</td>\n",
       "      <td>92</td>\n",
       "      <td>...</td>\n",
       "      <td>91</td>\n",
       "      <td>84</td>\n",
       "      <td>91</td>\n",
       "      <td>68</td>\n",
       "      <td>64</td>\n",
       "      <td>68</td>\n",
       "      <td>64</td>\n",
       "      <td>57</td>\n",
       "      <td>64</td>\n",
       "      <td>23</td>\n",
       "    </tr>\n",
       "    <tr>\n",
       "      <th>2</th>\n",
       "      <td>200389</td>\n",
       "      <td>J. Oblak</td>\n",
       "      <td>Jan Oblak</td>\n",
       "      <td>27</td>\n",
       "      <td>188</td>\n",
       "      <td>87</td>\n",
       "      <td>https://cdn.sofifa.com/players/200/389/21_60.png</td>\n",
       "      <td>Slovenia</td>\n",
       "      <td>91</td>\n",
       "      <td>93</td>\n",
       "      <td>...</td>\n",
       "      <td>38</td>\n",
       "      <td>41</td>\n",
       "      <td>38</td>\n",
       "      <td>35</td>\n",
       "      <td>39</td>\n",
       "      <td>35</td>\n",
       "      <td>35</td>\n",
       "      <td>36</td>\n",
       "      <td>35</td>\n",
       "      <td>92</td>\n",
       "    </tr>\n",
       "    <tr>\n",
       "      <th>3</th>\n",
       "      <td>192985</td>\n",
       "      <td>K. De Bruyne</td>\n",
       "      <td>Kevin De Bruyne</td>\n",
       "      <td>29</td>\n",
       "      <td>181</td>\n",
       "      <td>70</td>\n",
       "      <td>https://cdn.sofifa.com/players/192/985/21_60.png</td>\n",
       "      <td>Belgium</td>\n",
       "      <td>91</td>\n",
       "      <td>91</td>\n",
       "      <td>...</td>\n",
       "      <td>91</td>\n",
       "      <td>91</td>\n",
       "      <td>91</td>\n",
       "      <td>82</td>\n",
       "      <td>83</td>\n",
       "      <td>82</td>\n",
       "      <td>78</td>\n",
       "      <td>72</td>\n",
       "      <td>78</td>\n",
       "      <td>24</td>\n",
       "    </tr>\n",
       "    <tr>\n",
       "      <th>4</th>\n",
       "      <td>190871</td>\n",
       "      <td>Neymar Jr</td>\n",
       "      <td>Neymar da Silva Santos Jr.</td>\n",
       "      <td>28</td>\n",
       "      <td>175</td>\n",
       "      <td>68</td>\n",
       "      <td>https://cdn.sofifa.com/players/190/871/21_60.png</td>\n",
       "      <td>Brazil</td>\n",
       "      <td>91</td>\n",
       "      <td>91</td>\n",
       "      <td>...</td>\n",
       "      <td>91</td>\n",
       "      <td>86</td>\n",
       "      <td>91</td>\n",
       "      <td>70</td>\n",
       "      <td>65</td>\n",
       "      <td>70</td>\n",
       "      <td>65</td>\n",
       "      <td>52</td>\n",
       "      <td>65</td>\n",
       "      <td>23</td>\n",
       "    </tr>\n",
       "    <tr>\n",
       "      <th>...</th>\n",
       "      <td>...</td>\n",
       "      <td>...</td>\n",
       "      <td>...</td>\n",
       "      <td>...</td>\n",
       "      <td>...</td>\n",
       "      <td>...</td>\n",
       "      <td>...</td>\n",
       "      <td>...</td>\n",
       "      <td>...</td>\n",
       "      <td>...</td>\n",
       "      <td>...</td>\n",
       "      <td>...</td>\n",
       "      <td>...</td>\n",
       "      <td>...</td>\n",
       "      <td>...</td>\n",
       "      <td>...</td>\n",
       "      <td>...</td>\n",
       "      <td>...</td>\n",
       "      <td>...</td>\n",
       "      <td>...</td>\n",
       "      <td>...</td>\n",
       "    </tr>\n",
       "    <tr>\n",
       "      <th>19015</th>\n",
       "      <td>257371</td>\n",
       "      <td>M. Nzongong</td>\n",
       "      <td>Mike Nzongong</td>\n",
       "      <td>19</td>\n",
       "      <td>179</td>\n",
       "      <td>74</td>\n",
       "      <td>https://cdn.sofifa.com/players/257/371/21_60.png</td>\n",
       "      <td>Republic of Ireland</td>\n",
       "      <td>49</td>\n",
       "      <td>60</td>\n",
       "      <td>...</td>\n",
       "      <td>51</td>\n",
       "      <td>47</td>\n",
       "      <td>51</td>\n",
       "      <td>44</td>\n",
       "      <td>42</td>\n",
       "      <td>44</td>\n",
       "      <td>42</td>\n",
       "      <td>40</td>\n",
       "      <td>42</td>\n",
       "      <td>18</td>\n",
       "    </tr>\n",
       "    <tr>\n",
       "      <th>19016</th>\n",
       "      <td>259160</td>\n",
       "      <td>L. Bell</td>\n",
       "      <td>Lewis Bell</td>\n",
       "      <td>17</td>\n",
       "      <td>181</td>\n",
       "      <td>70</td>\n",
       "      <td>https://cdn.sofifa.com/players/259/160/21_60.png</td>\n",
       "      <td>England</td>\n",
       "      <td>49</td>\n",
       "      <td>67</td>\n",
       "      <td>...</td>\n",
       "      <td>51</td>\n",
       "      <td>44</td>\n",
       "      <td>51</td>\n",
       "      <td>42</td>\n",
       "      <td>38</td>\n",
       "      <td>42</td>\n",
       "      <td>41</td>\n",
       "      <td>35</td>\n",
       "      <td>41</td>\n",
       "      <td>13</td>\n",
       "    </tr>\n",
       "    <tr>\n",
       "      <th>19017</th>\n",
       "      <td>259157</td>\n",
       "      <td>Y. Arai</td>\n",
       "      <td>Yasin Arai</td>\n",
       "      <td>16</td>\n",
       "      <td>176</td>\n",
       "      <td>70</td>\n",
       "      <td>https://cdn.sofifa.com/players/259/157/21_60.png</td>\n",
       "      <td>England</td>\n",
       "      <td>49</td>\n",
       "      <td>74</td>\n",
       "      <td>...</td>\n",
       "      <td>53</td>\n",
       "      <td>47</td>\n",
       "      <td>53</td>\n",
       "      <td>45</td>\n",
       "      <td>40</td>\n",
       "      <td>45</td>\n",
       "      <td>44</td>\n",
       "      <td>39</td>\n",
       "      <td>44</td>\n",
       "      <td>17</td>\n",
       "    </tr>\n",
       "    <tr>\n",
       "      <th>19018</th>\n",
       "      <td>253763</td>\n",
       "      <td>R. Dinanga</td>\n",
       "      <td>Ricardo Dinanga</td>\n",
       "      <td>18</td>\n",
       "      <td>174</td>\n",
       "      <td>73</td>\n",
       "      <td>https://cdn.sofifa.com/players/253/763/21_60.png</td>\n",
       "      <td>Republic of Ireland</td>\n",
       "      <td>49</td>\n",
       "      <td>59</td>\n",
       "      <td>...</td>\n",
       "      <td>49</td>\n",
       "      <td>43</td>\n",
       "      <td>49</td>\n",
       "      <td>36</td>\n",
       "      <td>32</td>\n",
       "      <td>36</td>\n",
       "      <td>34</td>\n",
       "      <td>30</td>\n",
       "      <td>34</td>\n",
       "      <td>16</td>\n",
       "    </tr>\n",
       "    <tr>\n",
       "      <th>19019</th>\n",
       "      <td>241493</td>\n",
       "      <td>S. Cartwright</td>\n",
       "      <td>Samuel Cartwright</td>\n",
       "      <td>19</td>\n",
       "      <td>185</td>\n",
       "      <td>75</td>\n",
       "      <td>https://cdn.sofifa.com/players/241/493/21_60.png</td>\n",
       "      <td>England</td>\n",
       "      <td>49</td>\n",
       "      <td>65</td>\n",
       "      <td>...</td>\n",
       "      <td>38</td>\n",
       "      <td>36</td>\n",
       "      <td>38</td>\n",
       "      <td>46</td>\n",
       "      <td>45</td>\n",
       "      <td>46</td>\n",
       "      <td>47</td>\n",
       "      <td>51</td>\n",
       "      <td>47</td>\n",
       "      <td>15</td>\n",
       "    </tr>\n",
       "  </tbody>\n",
       "</table>\n",
       "<p>19020 rows × 90 columns</p>\n",
       "</div>"
      ],
      "text/plain": [
       "           ID               Name                      FullName  Age  Height  \\\n",
       "0      158023           L. Messi                  Lionel Messi   33     170   \n",
       "1       20801  Cristiano Ronaldo  C. Ronaldo dos Santos Aveiro   35     187   \n",
       "2      200389           J. Oblak                     Jan Oblak   27     188   \n",
       "3      192985       K. De Bruyne               Kevin De Bruyne   29     181   \n",
       "4      190871          Neymar Jr    Neymar da Silva Santos Jr.   28     175   \n",
       "...       ...                ...                           ...  ...     ...   \n",
       "19015  257371        M. Nzongong                 Mike Nzongong   19     179   \n",
       "19016  259160            L. Bell                    Lewis Bell   17     181   \n",
       "19017  259157            Y. Arai                    Yasin Arai   16     176   \n",
       "19018  253763         R. Dinanga               Ricardo Dinanga   18     174   \n",
       "19019  241493      S. Cartwright             Samuel Cartwright   19     185   \n",
       "\n",
       "       Weight                                          PhotoUrl  \\\n",
       "0          72  https://cdn.sofifa.com/players/158/023/21_60.png   \n",
       "1          83  https://cdn.sofifa.com/players/020/801/21_60.png   \n",
       "2          87  https://cdn.sofifa.com/players/200/389/21_60.png   \n",
       "3          70  https://cdn.sofifa.com/players/192/985/21_60.png   \n",
       "4          68  https://cdn.sofifa.com/players/190/871/21_60.png   \n",
       "...       ...                                               ...   \n",
       "19015      74  https://cdn.sofifa.com/players/257/371/21_60.png   \n",
       "19016      70  https://cdn.sofifa.com/players/259/160/21_60.png   \n",
       "19017      70  https://cdn.sofifa.com/players/259/157/21_60.png   \n",
       "19018      73  https://cdn.sofifa.com/players/253/763/21_60.png   \n",
       "19019      75  https://cdn.sofifa.com/players/241/493/21_60.png   \n",
       "\n",
       "               Nationality  Overall  Potential  ...  LMRating  CMRating  \\\n",
       "0                Argentina       93         93  ...        93        90   \n",
       "1                 Portugal       92         92  ...        91        84   \n",
       "2                 Slovenia       91         93  ...        38        41   \n",
       "3                  Belgium       91         91  ...        91        91   \n",
       "4                   Brazil       91         91  ...        91        86   \n",
       "...                    ...      ...        ...  ...       ...       ...   \n",
       "19015  Republic of Ireland       49         60  ...        51        47   \n",
       "19016              England       49         67  ...        51        44   \n",
       "19017              England       49         74  ...        53        47   \n",
       "19018  Republic of Ireland       49         59  ...        49        43   \n",
       "19019              England       49         65  ...        38        36   \n",
       "\n",
       "       RMRating LWBRating CDMRating RWBRating  LBRating  CBRating  RBRating  \\\n",
       "0            93        69        68        69        65        55        65   \n",
       "1            91        68        64        68        64        57        64   \n",
       "2            38        35        39        35        35        36        35   \n",
       "3            91        82        83        82        78        72        78   \n",
       "4            91        70        65        70        65        52        65   \n",
       "...         ...       ...       ...       ...       ...       ...       ...   \n",
       "19015        51        44        42        44        42        40        42   \n",
       "19016        51        42        38        42        41        35        41   \n",
       "19017        53        45        40        45        44        39        44   \n",
       "19018        49        36        32        36        34        30        34   \n",
       "19019        38        46        45        46        47        51        47   \n",
       "\n",
       "      GKRating  \n",
       "0           22  \n",
       "1           23  \n",
       "2           92  \n",
       "3           24  \n",
       "4           23  \n",
       "...        ...  \n",
       "19015       18  \n",
       "19016       13  \n",
       "19017       17  \n",
       "19018       16  \n",
       "19019       15  \n",
       "\n",
       "[19020 rows x 90 columns]"
      ]
     },
     "metadata": {},
     "output_type": "display_data"
    }
   ],
   "source": [
    "df = pd.read_csv('players.csv')\n",
    "display(df)"
   ]
  },
  {
   "cell_type": "markdown",
   "metadata": {},
   "source": [
    "## 2. Missing Values"
   ]
  },
  {
   "cell_type": "code",
   "execution_count": 6,
   "metadata": {},
   "outputs": [
    {
     "name": "stdout",
     "output_type": "stream",
     "text": [
      "ClubPosition          234\n",
      "ContractUntil         234\n",
      "ClubNumber            234\n",
      "NationalPosition    17895\n",
      "NationalNumber      17895\n",
      "dtype: int64\n"
     ]
    }
   ],
   "source": [
    "all_rows = df.isna().sum()\n",
    "missing_ones = all_rows[all_rows[:] != 0]\n",
    "print(missing_ones)"
   ]
  },
  {
   "cell_type": "markdown",
   "metadata": {},
   "source": [
    "## 3. Mean, Max and Min Weights"
   ]
  },
  {
   "cell_type": "code",
   "execution_count": 7,
   "metadata": {},
   "outputs": [
    {
     "name": "stdout",
     "output_type": "stream",
     "text": [
      "Min: 50\n",
      "Max: 110\n",
      "Mean: 75.05241850683491\n"
     ]
    }
   ],
   "source": [
    "print(\"Min:\", df[\"Weight\"].min())\n",
    "print(\"Max:\", df[\"Weight\"].max())\n",
    "print(\"Mean:\", df[\"Weight\"].mean())"
   ]
  },
  {
   "cell_type": "markdown",
   "metadata": {},
   "source": [
    "## 4. Most/Least Common Nationality"
   ]
  },
  {
   "cell_type": "code",
   "execution_count": 8,
   "metadata": {},
   "outputs": [
    {
     "data": {
      "text/plain": [
       "England      1706\n",
       "Indonesia       1\n",
       "Name: Nationality, dtype: int64"
      ]
     },
     "execution_count": 8,
     "metadata": {},
     "output_type": "execute_result"
    }
   ],
   "source": [
    "nationality_count = df['Nationality'].value_counts()\n",
    "nationality_count.head(1).append(nationality_count.tail(1))"
   ]
  },
  {
   "cell_type": "markdown",
   "metadata": {},
   "source": [
    "## 5. Promissing Players"
   ]
  },
  {
   "cell_type": "code",
   "execution_count": 9,
   "metadata": {},
   "outputs": [
    {
     "data": {
      "text/html": [
       "<div>\n",
       "<style scoped>\n",
       "    .dataframe tbody tr th:only-of-type {\n",
       "        vertical-align: middle;\n",
       "    }\n",
       "\n",
       "    .dataframe tbody tr th {\n",
       "        vertical-align: top;\n",
       "    }\n",
       "\n",
       "    .dataframe thead th {\n",
       "        text-align: right;\n",
       "    }\n",
       "</style>\n",
       "<table border=\"1\" class=\"dataframe\">\n",
       "  <thead>\n",
       "    <tr style=\"text-align: right;\">\n",
       "      <th></th>\n",
       "      <th>ID</th>\n",
       "      <th>FullName</th>\n",
       "      <th>Potential</th>\n",
       "      <th>Growth</th>\n",
       "    </tr>\n",
       "  </thead>\n",
       "  <tbody>\n",
       "    <tr>\n",
       "      <th>12</th>\n",
       "      <td>231747</td>\n",
       "      <td>Kylian Mbappé</td>\n",
       "      <td>95</td>\n",
       "      <td>5</td>\n",
       "    </tr>\n",
       "    <tr>\n",
       "      <th>45</th>\n",
       "      <td>231281</td>\n",
       "      <td>Trent Alexander-Arnold</td>\n",
       "      <td>92</td>\n",
       "      <td>5</td>\n",
       "    </tr>\n",
       "    <tr>\n",
       "      <th>46</th>\n",
       "      <td>233049</td>\n",
       "      <td>Jadon Sancho</td>\n",
       "      <td>93</td>\n",
       "      <td>6</td>\n",
       "    </tr>\n",
       "    <tr>\n",
       "      <th>68</th>\n",
       "      <td>222492</td>\n",
       "      <td>Leroy Sané</td>\n",
       "      <td>90</td>\n",
       "      <td>5</td>\n",
       "    </tr>\n",
       "    <tr>\n",
       "      <th>70</th>\n",
       "      <td>228702</td>\n",
       "      <td>Frenkie de Jong</td>\n",
       "      <td>90</td>\n",
       "      <td>5</td>\n",
       "    </tr>\n",
       "    <tr>\n",
       "      <th>...</th>\n",
       "      <td>...</td>\n",
       "      <td>...</td>\n",
       "      <td>...</td>\n",
       "      <td>...</td>\n",
       "    </tr>\n",
       "    <tr>\n",
       "      <th>10650</th>\n",
       "      <td>251873</td>\n",
       "      <td>Yusuf Demir</td>\n",
       "      <td>86</td>\n",
       "      <td>21</td>\n",
       "    </tr>\n",
       "    <tr>\n",
       "      <th>12472</th>\n",
       "      <td>247649</td>\n",
       "      <td>Jarrad Branthwaite</td>\n",
       "      <td>85</td>\n",
       "      <td>22</td>\n",
       "    </tr>\n",
       "    <tr>\n",
       "      <th>12798</th>\n",
       "      <td>256781</td>\n",
       "      <td>Luca Netz</td>\n",
       "      <td>85</td>\n",
       "      <td>22</td>\n",
       "    </tr>\n",
       "    <tr>\n",
       "      <th>14022</th>\n",
       "      <td>259419</td>\n",
       "      <td>Takuhiro Nakai</td>\n",
       "      <td>86</td>\n",
       "      <td>24</td>\n",
       "    </tr>\n",
       "    <tr>\n",
       "      <th>14290</th>\n",
       "      <td>258315</td>\n",
       "      <td>Bright Akwo Arrey-Mbi</td>\n",
       "      <td>85</td>\n",
       "      <td>24</td>\n",
       "    </tr>\n",
       "  </tbody>\n",
       "</table>\n",
       "<p>245 rows × 4 columns</p>\n",
       "</div>"
      ],
      "text/plain": [
       "           ID                FullName  Potential  Growth\n",
       "12     231747           Kylian Mbappé         95       5\n",
       "45     231281  Trent Alexander-Arnold         92       5\n",
       "46     233049            Jadon Sancho         93       6\n",
       "68     222492              Leroy Sané         90       5\n",
       "70     228702         Frenkie de Jong         90       5\n",
       "...       ...                     ...        ...     ...\n",
       "10650  251873             Yusuf Demir         86      21\n",
       "12472  247649      Jarrad Branthwaite         85      22\n",
       "12798  256781               Luca Netz         85      22\n",
       "14022  259419          Takuhiro Nakai         86      24\n",
       "14290  258315   Bright Akwo Arrey-Mbi         85      24\n",
       "\n",
       "[245 rows x 4 columns]"
      ]
     },
     "metadata": {},
     "output_type": "display_data"
    }
   ],
   "source": [
    "display(df.loc[(df['Potential'] > 84) & (df['Growth'] > 4)][['ID', 'FullName', 'Potential', 'Growth']])"
   ]
  },
  {
   "cell_type": "markdown",
   "metadata": {},
   "source": [
    "## 6. Plotting Promissing Players' Best Position"
   ]
  },
  {
   "cell_type": "code",
   "execution_count": 54,
   "metadata": {},
   "outputs": [
    {
     "data": {
      "text/plain": [
       "<seaborn.axisgrid.FacetGrid at 0x7f6aec84e9d0>"
      ]
     },
     "execution_count": 54,
     "metadata": {},
     "output_type": "execute_result"
    },
    {
     "data": {
      "image/png": "[encoded data removed]",
      "text/plain": [
       "<Figure size 360x360 with 1 Axes>"
      ]
     },
     "metadata": {
      "needs_background": "light"
     },
     "output_type": "display_data"
    }
   ],
   "source": [
    "data = df.loc[(df['Potential'] > 84) & (df['Growth'] > 4)][['BestPosition', 'Potential']]\n",
    "sns.catplot(x=\"BestPosition\", y=\"Potential\", kind=\"box\", data=data)"
   ]
  },
  {
   "cell_type": "markdown",
   "metadata": {},
   "source": [
    "## 7. Best Club (With The Most Promissing Players)"
   ]
  },
  {
   "cell_type": "code",
   "execution_count": 10,
   "metadata": {},
   "outputs": [
    {
     "data": {
      "text/plain": [
       "Club       \n",
       "Sporting CP    10\n",
       "dtype: int64"
      ]
     },
     "metadata": {},
     "output_type": "display_data"
    }
   ],
   "source": [
    "display(df.loc[(df['Potential'] > 84) & (df['Growth'] > 4)][['Club']].value_counts().head(1))"
   ]
  },
  {
   "cell_type": "markdown",
   "metadata": {},
   "source": [
    "## 8. Sum of Overal of Promissing Players in Chelsea"
   ]
  },
  {
   "cell_type": "code",
   "execution_count": 11,
   "metadata": {},
   "outputs": [
    {
     "data": {
      "text/plain": [
       "Overall    623\n",
       "dtype: int64"
      ]
     },
     "metadata": {},
     "output_type": "display_data"
    }
   ],
   "source": [
    "display(df.loc[(df['Potential'] > 84) & (df['Growth'] > 4) & (df['Club'] == 'Chelsea')][['Overall']].sum())"
   ]
  },
  {
   "cell_type": "markdown",
   "metadata": {},
   "source": [
    "## 9. Players ContractUntil=2021 and Nationality != NationalTeam"
   ]
  },
  {
   "cell_type": "code",
   "execution_count": 12,
   "metadata": {},
   "outputs": [
    {
     "name": "stdout",
     "output_type": "stream",
     "text": [
      "6728\n"
     ]
    }
   ],
   "source": [
    "print(len(df.loc[(df['ContractUntil'] == 2021) & (df['Nationality'] != df['NationalTeam'])]))"
   ]
  },
  {
   "cell_type": "markdown",
   "metadata": {},
   "source": [
    "## 10. Mehdi Taremi\t"
   ]
  },
  {
   "cell_type": "code",
   "execution_count": 14,
   "metadata": {},
   "outputs": [
    {
     "data": {
      "text/html": [
       "<div>\n",
       "<style scoped>\n",
       "    .dataframe tbody tr th:only-of-type {\n",
       "        vertical-align: middle;\n",
       "    }\n",
       "\n",
       "    .dataframe tbody tr th {\n",
       "        vertical-align: top;\n",
       "    }\n",
       "\n",
       "    .dataframe thead th {\n",
       "        text-align: right;\n",
       "    }\n",
       "</style>\n",
       "<table border=\"1\" class=\"dataframe\">\n",
       "  <thead>\n",
       "    <tr style=\"text-align: right;\">\n",
       "      <th></th>\n",
       "      <th>Name</th>\n",
       "      <th>FullName</th>\n",
       "      <th>Club</th>\n",
       "      <th>Overall</th>\n",
       "      <th>WageEUR</th>\n",
       "    </tr>\n",
       "  </thead>\n",
       "  <tbody>\n",
       "    <tr>\n",
       "      <th>1017</th>\n",
       "      <td>M. Taremi</td>\n",
       "      <td>Mehdi Taremi</td>\n",
       "      <td>FC Porto</td>\n",
       "      <td>77</td>\n",
       "      <td>16000</td>\n",
       "    </tr>\n",
       "  </tbody>\n",
       "</table>\n",
       "</div>"
      ],
      "text/plain": [
       "           Name      FullName      Club  Overall  WageEUR\n",
       "1017  M. Taremi  Mehdi Taremi  FC Porto       77    16000"
      ]
     },
     "metadata": {},
     "output_type": "display_data"
    }
   ],
   "source": [
    "display(df.loc[(df['Name'] == 'M. Taremi')].head(1)[['Name', 'FullName', 'Club', 'Overall', 'WageEUR']])"
   ]
  }
 ],
 "metadata": {
  "kernelspec": {
   "display_name": "3.9.4",
   "language": "python",
   "name": "3.9.4"
  },
  "language_info": {
   "codemirror_mode": {
    "name": "ipython",
    "version": 3
   },
   "file_extension": ".py",
   "mimetype": "text/x-python",
   "name": "python",
   "nbconvert_exporter": "python",
   "pygments_lexer": "ipython3",
   "version": "3.9.4"
  }
 },
 "nbformat": 4,
 "nbformat_minor": 4
}

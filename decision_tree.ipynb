{
 "cells": [
  {
   "cell_type": "markdown",
   "id": "7cf804e1",
   "metadata": {},
   "source": [
    "## Imports"
   ]
  },
  {
   "cell_type": "code",
   "execution_count": 324,
   "id": "76245ce4",
   "metadata": {},
   "outputs": [],
   "source": [
    "from sklearn import tree\n",
    "from sklearn.model_selection import train_test_split\n",
    "from sklearn.metrics import confusion_matrix, f1_score\n",
    "\n",
    "import pandas as pd\n",
    "import numpy as np\n",
    "import matplotlib.pyplot as plt\n",
    "from collections import Counter"
   ]
  },
  {
   "cell_type": "markdown",
   "id": "7e79386b",
   "metadata": {},
   "source": [
    "## Loading The Dataset"
   ]
  },
  {
   "cell_type": "code",
   "execution_count": 311,
   "id": "8c717adb",
   "metadata": {},
   "outputs": [],
   "source": [
    "feature_names = ['Price', 'Maintenance Costs', 'Number of Doors', 'Capacity', 'Trunk Size', 'Security', 'Label']\n",
    "df = pd.read_csv('car.csv', header=None, names=feature_names)"
   ]
  },
  {
   "cell_type": "markdown",
   "id": "0bffbe54",
   "metadata": {},
   "source": [
    "## Preprocessing"
   ]
  },
  {
   "cell_type": "code",
   "execution_count": 312,
   "id": "cae2e957",
   "metadata": {},
   "outputs": [],
   "source": [
    "replaces = {\n",
    "    'Price': {'low': 1, 'med': 2, 'high': 3, 'vhigh': 4},\n",
    "    'Maintenance Costs': {'low': 1, 'med': 2, 'high': 3, 'vhigh': 4},\n",
    "    'Number of Doors': {'2': 2, '3': 3, '4': 4, '5more': 5},\n",
    "    'Capacity': {'2': 2, '4': 4, 'more': 5},\n",
    "    'Trunk Size': {'small': 1, 'med': 2, 'big': 3},\n",
    "    'Security': {'low': 1, 'med': 2, 'high': 3},\n",
    "}"
   ]
  },
  {
   "cell_type": "code",
   "execution_count": 313,
   "id": "5d67b1c2",
   "metadata": {},
   "outputs": [],
   "source": [
    "df = df.replace(replaces)"
   ]
  },
  {
   "cell_type": "markdown",
   "id": "146d73a0",
   "metadata": {},
   "source": [
    "## Train-Test Split"
   ]
  },
  {
   "cell_type": "code",
   "execution_count": 315,
   "id": "77339d98",
   "metadata": {},
   "outputs": [],
   "source": [
    "train, test = train_test_split(df, test_size=0.2)\n",
    "x_train = train.iloc[:, :-1]\n",
    "y_train = train.iloc[:, -1:]\n",
    "x_test = test.iloc[:, :-1]\n",
    "y_test = test.iloc[:, -1:]"
   ]
  },
  {
   "cell_type": "markdown",
   "id": "6f8906de",
   "metadata": {},
   "source": [
    "## Creating Decision Tree with Different Depths"
   ]
  },
  {
   "cell_type": "code",
   "execution_count": 337,
   "id": "b9c68304",
   "metadata": {},
   "outputs": [
    {
     "name": "stdout",
     "output_type": "stream",
     "text": [
      "Depth=  5: Train Accuracy= 0.88 Test Accuracy= 0.86\n",
      "Depth=  7: Train Accuracy= 0.94 Test Accuracy= 0.92\n",
      "Depth= 10: Train Accuracy= 0.99 Test Accuracy= 0.99\n"
     ]
    }
   ],
   "source": [
    "depths = [5, 7, 10]\n",
    "\n",
    "accuracy = lambda preds, labels: sum([1 for e in np.equal(preds, labels) if e == True]) / len(preds)\n",
    "\n",
    "for d in depths:\n",
    "    \n",
    "    dtree = tree.DecisionTreeClassifier(max_depth=d)\n",
    "    dtree = dtree.fit(x_train, y_train)\n",
    "    train_preds = dtree.predict(x_train)\n",
    "    test_preds = dtree.predict(x_test)\n",
    "    \n",
    "    print(f'Depth= {d:2}: Train Accuracy= {accuracy(train_preds, y_train.to_numpy()[:, 0]):.2f}',\n",
    "         f'Test Accuracy= {accuracy(test_preds, y_test.to_numpy()[:, 0]):.2f}')\n"
   ]
  },
  {
   "cell_type": "markdown",
   "id": "84ad79a9",
   "metadata": {},
   "source": [
    "## Confusion Matrix, F-Score and ROC for Depth= 5"
   ]
  },
  {
   "cell_type": "code",
   "execution_count": 341,
   "id": "833f1ebd",
   "metadata": {},
   "outputs": [],
   "source": [
    "dtree = tree.DecisionTreeClassifier(max_depth=6)\n",
    "dtree = dtree.fit(x_train, y_train)\n",
    "test_preds = dtree.predict(x_test)"
   ]
  },
  {
   "cell_type": "code",
   "execution_count": 342,
   "id": "cba00895",
   "metadata": {},
   "outputs": [
    {
     "data": {
      "text/plain": [
       "array([[ 62,   9,   0,   2],\n",
       "       [  0,  15,   0,   0],\n",
       "       [ 10,   2, 236,   0],\n",
       "       [  1,   0,   0,   9]])"
      ]
     },
     "execution_count": 342,
     "metadata": {},
     "output_type": "execute_result"
    }
   ],
   "source": [
    "confusion_matrix(y_test.to_numpy()[:, 0], test_preds)"
   ]
  },
  {
   "cell_type": "code",
   "execution_count": 340,
   "id": "98b5fc1d",
   "metadata": {},
   "outputs": [
    {
     "data": {
      "text/plain": [
       "0.9855491329479769"
      ]
     },
     "execution_count": 340,
     "metadata": {},
     "output_type": "execute_result"
    }
   ],
   "source": [
    "f1_score(y_test.to_numpy()[:, 0], test_preds, average='micro')"
   ]
  },
  {
   "cell_type": "code",
   "execution_count": null,
   "id": "91bc7a4d",
   "metadata": {},
   "outputs": [],
   "source": [
    "## TODO: ROC (https://scikit-learn.org/stable/auto_examples/model_selection/plot_roc.html)"
   ]
  },
  {
   "cell_type": "markdown",
   "id": "b7afe8dd",
   "metadata": {},
   "source": [
    "## Saving Decision Tree in PDF for Depth= 5"
   ]
  },
  {
   "cell_type": "code",
   "execution_count": 319,
   "id": "169a97d5",
   "metadata": {},
   "outputs": [
    {
     "data": {
      "text/plain": [
       "'Source.gv.pdf'"
      ]
     },
     "execution_count": 319,
     "metadata": {},
     "output_type": "execute_result"
    }
   ],
   "source": [
    "import graphviz\n",
    "dot_data = tree.export_graphviz(\n",
    "    dtree, out_file=None,\n",
    "    feature_names=class_names[: -1],  \n",
    "    class_names=y_train['Label'].unique(),  \n",
    "    filled=True, rounded=True,  \n",
    "    special_characters=True\n",
    ") \n",
    "graph = graphviz.Source(dot_data) \n",
    "graph.render()"
   ]
  }
 ],
 "metadata": {
  "kernelspec": {
   "display_name": "3.9.4",
   "language": "python",
   "name": "3.9.4"
  },
  "language_info": {
   "codemirror_mode": {
    "name": "ipython",
    "version": 3
   },
   "file_extension": ".py",
   "mimetype": "text/x-python",
   "name": "python",
   "nbconvert_exporter": "python",
   "pygments_lexer": "ipython3",
   "version": "3.9.4"
  }
 },
 "nbformat": 4,
 "nbformat_minor": 5
}
